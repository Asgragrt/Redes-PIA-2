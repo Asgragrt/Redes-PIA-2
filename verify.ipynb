{
 "cells": [
  {
   "cell_type": "code",
   "execution_count": 1,
   "metadata": {},
   "outputs": [],
   "source": [
    "import tensorflow as tf\n",
    "import tensorflow_io as tfio\n",
    "import numpy as np\n",
    "import pandas as pd\n",
    "import matplotlib.pyplot as plt\n",
    "import os"
   ]
  },
  {
   "cell_type": "code",
   "execution_count": 2,
   "metadata": {},
   "outputs": [],
   "source": [
    "def load_audio_16k(filename, mono=False):\n",
    "    audio = tfio.audio.AudioIOTensor(filename, dtype=tf.float32)\n",
    "\n",
    "    sample_rate = tf.cast(audio.rate, dtype=tf.int64)\n",
    "\n",
    "    audio = audio.to_tensor()\n",
    "\n",
    "    if mono:\n",
    "        audio = audio[:,0]\n",
    "    \n",
    "    audio = tfio.audio.resample(audio, rate_in=sample_rate, rate_out=16000)\n",
    "\n",
    "    return audio"
   ]
  },
  {
   "cell_type": "code",
   "execution_count": 3,
   "metadata": {},
   "outputs": [],
   "source": [
    "def preprocess(file_path, label):\n",
    "    audio = load_audio_16k(file_path)\n",
    "    #Using two channels\n",
    "    step1 = len(audio[:,0]) // 16\n",
    "    step2 = len(audio[:,0]) // 33\n",
    "\n",
    "    labels = np.ones((30,1), dtype=np.float32) * label\n",
    "\n",
    "\n",
    "    steps1 = np.arange(15)*step1\n",
    "    steps2 = np.arange(start=1, stop=30, step=2)*step2\n",
    "    audioWindow = np.arange(10000, 58000).reshape(-1,1)\n",
    "    audioWindow1 = audioWindow + steps1\n",
    "    audioWindow2 = audioWindow + steps2\n",
    "\n",
    "\n",
    "    audio = tf.transpose(tf.concat([tf.gather(audio[:,0], audioWindow1), tf.gather(audio[:,1], audioWindow2)], 1))\n",
    "\n",
    "    spectrograms = tfio.audio.spectrogram(audio, nfft=512, window=960, stride=240)\n",
    "\n",
    "    spectrograms = tfio.audio.melscale(spectrograms, rate=16000, mels=100, fmin=0, fmax=4000)\n",
    "    spectrograms = tfio.audio.dbscale(spectrograms, top_db=70)\n",
    "\n",
    "\n",
    "    spectrograms = tf.expand_dims(spectrograms, axis=3)\n",
    "    \n",
    "    return spectrograms, labels"
   ]
  },
  {
   "cell_type": "code",
   "execution_count": 4,
   "metadata": {},
   "outputs": [],
   "source": [
    "def getDataPaths(*path):\n",
    "    dataRelativePath = os.path.join(*path)\n",
    "\n",
    "    supportedAudioFiles = ['/*.flac', '/*.wav', '/*.ogg', '/*.mp3', '/*.mp4a']\n",
    "    supportedAudioFilesGlob = []\n",
    "\n",
    "    for supportedAudioFile in supportedAudioFiles:\n",
    "        supportedAudioFilesGlob.append(dataRelativePath + supportedAudioFile)\n",
    "\n",
    "    dataPaths = tf.data.Dataset.list_files(supportedAudioFilesGlob, shuffle=False, seed=1234)\n",
    "    return dataRelativePath, dataPaths"
   ]
  },
  {
   "cell_type": "code",
   "execution_count": 5,
   "metadata": {},
   "outputs": [],
   "source": [
    "def getLabels(dataRelativePath, dataPaths):\n",
    "    labels = []\n",
    "    fileIndex = len(dataRelativePath)\n",
    "    for elem in dataPaths:\n",
    "        fileStringPath = elem.numpy().decode('utf-8')\n",
    "        underscoreIndex = fileStringPath.find('_',fileIndex)\n",
    "        labels.append(float(fileStringPath[fileIndex + 1:underscoreIndex]))\n",
    "    \n",
    "    return labels"
   ]
  },
  {
   "cell_type": "code",
   "execution_count": 6,
   "metadata": {},
   "outputs": [],
   "source": [
    "def getData(*args):\n",
    "    dataRelativePath, dataPaths = getDataPaths(*args)\n",
    "    labels = getLabels(dataRelativePath, dataPaths)\n",
    "    labels = tf.data.Dataset.from_tensor_slices(labels)\n",
    "    return tf.data.Dataset.zip((dataPaths, labels))"
   ]
  },
  {
   "cell_type": "code",
   "execution_count": 9,
   "metadata": {},
   "outputs": [],
   "source": [
    "data = getData('Extraction2')"
   ]
  },
  {
   "cell_type": "code",
   "execution_count": 10,
   "metadata": {},
   "outputs": [
    {
     "name": "stdout",
     "output_type": "stream",
     "text": [
      "b'Extraction2\\\\105_GimmexGimme.mp3'\n",
      "b'Extraction2\\\\108_Cutlery.mp3'\n",
      "b'Extraction2\\\\110_Blessing.mp3'\n",
      "b'Extraction2\\\\115_Ready steady.mp3'\n",
      "b'Extraction2\\\\124_Cinema.mp3'\n",
      "b'Extraction2\\\\127_Happy synthesizer.mp3'\n",
      "b'Extraction2\\\\128_Dreamin chuchu.mp3'\n",
      "b'Extraction2\\\\128_Miku.mp3'\n",
      "b'Extraction2\\\\128_Next nest.mp3'\n",
      "b'Extraction2\\\\130_Ifuudoudou.mp3'\n",
      "b'Extraction2\\\\130_Traffic jam.mp3'\n",
      "b'Extraction2\\\\130_Yoru ni kakeru.mp3'\n",
      "b'Extraction2\\\\132_Once upon a dream.mp3'\n",
      "b'Extraction2\\\\134_Otome kaibou.mp3'\n",
      "b'Extraction2\\\\138_Mirai.mp3'\n",
      "b'Extraction2\\\\140_Echo.mp3'\n",
      "b'Extraction2\\\\140_Forward.mp3'\n",
      "b'Extraction2\\\\140_Hibikase.mp3'\n",
      "b'Extraction2\\\\140_RAD dogs.mp3'\n",
      "b'Extraction2\\\\143_Oki ni mesu mama.mp3'\n",
      "b'Extraction2\\\\145_Junky night town orchestra.mp3'\n",
      "b'Extraction2\\\\149_Dramaturgy.mp3'\n",
      "b'Extraction2\\\\150_On the rocks.mp3'\n",
      "b'Extraction2\\\\150_Roki.mp3'\n",
      "b'Extraction2\\\\150_Tell your world.mp3'\n",
      "b'Extraction2\\\\152_Color of drops.mp3'\n",
      "b'Extraction2\\\\152_Venom.mp3'\n",
      "b'Extraction2\\\\153_Darling dance.mp3'\n",
      "b'Extraction2\\\\154_Senbonzakura.mp3'\n",
      "b'Extraction2\\\\165_Remote control.mp3'\n",
      "b'Extraction2\\\\166_King.mp3'\n",
      "b'Extraction2\\\\168_Hare wo matsu.mp3'\n",
      "b'Extraction2\\\\170_Bocca della verita.mp3'\n",
      "b'Extraction2\\\\170_Romeo to cinderella.mp3'\n",
      "b'Extraction2\\\\171_ID smile.mp3'\n",
      "b\"Extraction2\\\\171_World's end dancehall.mp3\"\n",
      "b'Extraction2\\\\176_Alter ego.mp3'\n",
      "b'Extraction2\\\\181_Dear doppelganger.mp3'\n",
      "b'Extraction2\\\\185_Brand new day.mp3'\n",
      "b'Extraction2\\\\185_Teo.mp3'\n",
      "b'Extraction2\\\\188_Flyer.mp3'\n",
      "b'Extraction2\\\\190_Aoku kakero.mp3'\n",
      "b'Extraction2\\\\190_NeedLe.mp3'\n",
      "b'Extraction2\\\\191_Ikanaide.mp3'\n",
      "b\"Extraction2\\\\195_Rollin' girl.mp3\"\n",
      "b'Extraction2\\\\200_Hibana reloaded.mp3'\n",
      "b'Extraction2\\\\200_Kagerou dance.mp3'\n",
      "b'Extraction2\\\\204_Jackpot sad girl.mp3'\n",
      "b'Extraction2\\\\211_Hello world.mp3'\n",
      "b'Extraction2\\\\222_Unknown mother goose.mp3'\n",
      "b'Extraction2\\\\76_Saisei.mp3'\n"
     ]
    }
   ],
   "source": [
    "for pathD, labelD in data.as_numpy_iterator():\n",
    "    print(pathD)\n",
    "    valid = preprocess(pathD, labelD)"
   ]
  }
 ],
 "metadata": {
  "kernelspec": {
   "display_name": ".venv",
   "language": "python",
   "name": "python3"
  },
  "language_info": {
   "codemirror_mode": {
    "name": "ipython",
    "version": 3
   },
   "file_extension": ".py",
   "mimetype": "text/x-python",
   "name": "python",
   "nbconvert_exporter": "python",
   "pygments_lexer": "ipython3",
   "version": "3.9.5"
  },
  "orig_nbformat": 4
 },
 "nbformat": 4,
 "nbformat_minor": 2
}
