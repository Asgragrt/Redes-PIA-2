{
 "cells": [
  {
   "cell_type": "code",
   "execution_count": 1,
   "metadata": {},
   "outputs": [],
   "source": [
    "import os\n",
    "import shutil\n",
    "import tensorflow_io as tfio\n",
    "import tensorflow as tf"
   ]
  },
  {
   "cell_type": "code",
   "execution_count": 2,
   "metadata": {},
   "outputs": [],
   "source": [
    "filePath = r'C:\\Program Files (x86)\\StreamCompanion\\Files'"
   ]
  },
  {
   "cell_type": "code",
   "execution_count": 3,
   "metadata": {},
   "outputs": [],
   "source": [
    "mapTitlePath = os.path.join(filePath, 'mapTitle.txt')\n",
    "mapLocationPath = os.path.join(filePath, 'mapLocation.txt')\n",
    "mapMP3Path = os.path.join(filePath, 'mapMP3.txt')\n",
    "bpmFilePath = os.path.join(filePath, 'mapBPM.txt')\n",
    "fileNamePath = os.path.join(filePath, 'mapFileName.txt')"
   ]
  },
  {
   "cell_type": "code",
   "execution_count": 4,
   "metadata": {},
   "outputs": [],
   "source": [
    "def cleanTitle(title):\n",
    "    validTitle = title.replace(\"'\", \"!\")\n",
    "    validTitle = validTitle.replace(\"&\", \"n\")\n",
    "    validTitle = validTitle.replace(\"~\", \"-\")\n",
    "    validTitle = validTitle.replace(\"=\", \"eq\")\n",
    "    return validTitle"
   ]
  },
  {
   "cell_type": "code",
   "execution_count": 52,
   "metadata": {},
   "outputs": [
    {
     "name": "stdout",
     "output_type": "stream",
     "text": [
      "fake me (samfree's Science Adventure Dance Remix)\n",
      "E:\\Osu\\Songs\\1749116 Ito Kanako - fake me (samfree's Science Adventure Dance Remix)\\Ito Kanako - fake me (samfree's Science Adventure Dance Remix) (Kowari) [copy].osu\n",
      "Ito Kanako - fake me (samfree's Science Adventure Dance Remix) (Kowari) [copy].osu\n",
      "audio.mp3\n",
      "165 165 165\n",
      "True True True True\n",
      "E:\\Osu\\Songs\\1749116 Ito Kanako - fake me (samfree's Science Adventure Dance Remix)\\audio.mp3\n",
      "C:\\Users\\user\\Documents\\Code\\Python\\Redes PIA 2\\Extraction\\165_fake me (samfree!s Science Adventure Dance Remix).mp3\n"
     ]
    }
   ],
   "source": [
    "with open(mapTitlePath) as file:\n",
    "    mapTitle = file.read()\n",
    "    print(mapTitle)\n",
    "\n",
    "with open(mapLocationPath) as file:\n",
    "    mapLocation = file.read()\n",
    "    mapLocation = mapLocation[1:]\n",
    "    print(mapLocation)\n",
    "\n",
    "with open(fileNamePath) as file:\n",
    "    fileName = file.read()\n",
    "    print(fileName)\n",
    "\n",
    "with open(mapMP3Path) as file:\n",
    "    mapMP3 = file.read()\n",
    "    mapMP3 = mapMP3[1:]\n",
    "    print(mapMP3)\n",
    "\n",
    "with open(bpmFilePath) as file:\n",
    "    bpmFile = file.read()\n",
    "    print(bpmFile)\n",
    "\n",
    "firstSpace = bpmFile.find(' ')\n",
    "mainBPM = int(bpmFile[:firstSpace])\n",
    "bpmFile = bpmFile[firstSpace + 1:]\n",
    "secondSpace = bpmFile.find(' ')\n",
    "maxBPM = int(bpmFile[:secondSpace])\n",
    "minBPM = int(bpmFile[secondSpace:])\n",
    "extension = mapMP3[mapMP3.rfind(\".\"):]\n",
    "#Probs se puede usar .split() Para obtener los datos\n",
    "if mainBPM == maxBPM == minBPM:\n",
    "    mapLocationReal = mapLocation.replace('\\\\' + fileName, '')\n",
    "    mp3Path = os.path.join(mapLocationReal, mapMP3)\n",
    "    baseDestination = r'C:\\Users\\user\\Documents\\Code\\Python\\Redes PIA 2\\Extraction'\n",
    "    newFileName = f\"{mainBPM}_{mapTitle}{extension}\"\n",
    "    destinationPath = os.path.join(baseDestination, cleanTitle(newFileName))\n",
    "    dataPath = os.path.join(r'C:\\Users\\user\\Documents\\Code\\Python\\Redes PIA 2\\data\\Training', newFileName)\n",
    "\n",
    "    ###################REVISAR QUE TENGA DOS CANALES ######################################\n",
    "    shape = bool(tfio.audio.AudioIOTensor(mp3Path, dtype=tf.float32).shape[1] == 2)\n",
    "    #print(shape)\n",
    "\n",
    "    try:\n",
    "        print(os.path.exists(mp3Path), not os.path.exists(destinationPath), not os.path.exists(dataPath), shape)\n",
    "        if os.path.exists(mp3Path) and not os.path.exists(destinationPath) and not os.path.exists(dataPath) and shape:\n",
    "            print(mp3Path)\n",
    "            print(destinationPath)\n",
    "            shutil.copy(mp3Path, destinationPath)\n",
    "            pass\n",
    "    except:\n",
    "        pass\n",
    "\n",
    "else:\n",
    "    print(\"Not equal\")"
   ]
  }
 ],
 "metadata": {
  "kernelspec": {
   "display_name": ".venv",
   "language": "python",
   "name": "python3"
  },
  "language_info": {
   "codemirror_mode": {
    "name": "ipython",
    "version": 3
   },
   "file_extension": ".py",
   "mimetype": "text/x-python",
   "name": "python",
   "nbconvert_exporter": "python",
   "pygments_lexer": "ipython3",
   "version": "3.9.5"
  },
  "orig_nbformat": 4
 },
 "nbformat": 4,
 "nbformat_minor": 2
}
